{
 "cells": [
  {
   "cell_type": "markdown",
   "id": "0c52989d",
   "metadata": {},
   "source": [
    "## 1. 카메라 열기 \n",
    "\n",
    "### **[명령어 설명]**\n",
    "\n",
    "❶ **cv2.isOpened()** : 객체 초기화 확인 (파일이나 카메라 장치에 제대로 연결돼 있는지 확인)\n",
    "\n",
    "❷ **cv2.read()** : 영상 프레임 읽기\n",
    "   - 출력 : ret (프레임 읽기 성공 또는 실패 여부 T/F)\n",
    "   - img (프레임 이미지 numpy배열 or None)\n",
    "\n",
    "❸ **cv2.release()** : 캡처 자원 반납\n",
    "\n",
    "❹ **cv2.imread(filename, flags=None)** : 이미지 읽기\n",
    "   - filename : 이미지 파일의 경로\n",
    "   - flags\n",
    "      + cv2.IMAGAD_COLOR : RGB (default)\n",
    "      + cv2.IMREAD_GRAYSCALE : GrayScale \n",
    "      + cv2.IMREAD_UNCHANGED : 투명도인 Alpha 채널을 포함\n",
    "   - 반환 값 : numpy array 배열의 이미지 정보\n",
    "\n",
    "❺ **cv2.imshow(window_name, image)** : 이미지를 화면에 표시\n",
    "   - window_name : 이미지가 표시될 창의 이름을 나타내는 문자열\n",
    "   - image : 표시할 이미지\n",
    "   - 반환 값 : 아무것도 반환하지 않음 \n",
    "\n",
    "❻ **cv2.waitKey(ms)** : 키보드 입력 대기\n",
    "   - ms : 키보드 입력을 대기할 시간(ms 단위)\n",
    "   - 반환 값 : 대기 시간동안 키 입력이 없을시 -1을 출력\n",
    "   - ord() : 문자를 아스키 코드 값으로 변환해 주는 함수 "
   ]
  },
  {
   "cell_type": "code",
   "execution_count": null,
   "id": "8e176307",
   "metadata": {},
   "outputs": [],
   "source": [
    "pip install opencv-python"
   ]
  },
  {
   "cell_type": "code",
   "execution_count": null,
   "id": "50700104",
   "metadata": {},
   "outputs": [],
   "source": [
    "import cv2\n",
    "cap = cv2.VideoCapture(0)               # 웹캠 객체 생성\n",
    "\n",
    "if cap.isOpened():                      # 캡처 객체 초기화 확인\n",
    "    while True: \n",
    "        ret, img = cap.read()           # 다음 프레임 읽기      \n",
    "        if ret:                         # 프레임 읽기 정상\n",
    "            cv2.imshow('camera', img)            \n",
    "            if cv2.waitKey(1) != -1:    # 화면에 표시\n",
    "                break      \n",
    "        else: \n",
    "            print('no frame')           # 다음 프레임을 읽을 수 없음.\n",
    "            break    \n",
    "else:\n",
    "    print(\"Can't open video.\")          # 캡처 객체 초기화 실패\n",
    "cap.release()                           # 캡쳐 자원 반납\n",
    "cv2.destroyAllWindows()"
   ]
  },
  {
   "cell_type": "markdown",
   "id": "011935bb",
   "metadata": {},
   "source": [
    "### **[참고사항]**\n",
    "\n",
    "- Windows 비트맵 - .bmp, .dib\n",
    "- JPEG 파일 - .jpeg, .jpg, *.jpe\n",
    "- JPEG 2000 파일 - *.jp2\n",
    "- 휴대용 네트워크 그래픽 - *.png\n",
    "- WebP - *.webp\n",
    "- 휴대용 이미지 형식 - .pbm, .pgm, .ppm .pxm, *.pnm\n",
    "- Sun 래스터 - .sr, .ras\n",
    "- TIFF 파일 - .tiff, .tif\n",
    "- OpenEXR 이미지 파일 - *.exr\n",
    "- Radiance HDR - .hdr, .pic\n",
    "- GDAL에서 지원하는 래스터 및 벡터 지리 공간 데이터"
   ]
  },
  {
   "cell_type": "markdown",
   "id": "57043951",
   "metadata": {},
   "source": [
    "## 2. 프레임 확인하기"
   ]
  },
  {
   "cell_type": "code",
   "execution_count": null,
   "id": "d01b2912",
   "metadata": {},
   "outputs": [],
   "source": [
    "import cv2\n",
    "import time as t \n",
    "\n",
    "cap = cv2.VideoCapture(0)               # 웹캠 객체 생성\n",
    "\n",
    "t_now = t.time()\n",
    "t_prev = t.time()\n",
    "\n",
    "cnt_frame = 0"
   ]
  },
  {
   "cell_type": "code",
   "execution_count": null,
   "id": "3081c7dc",
   "metadata": {},
   "outputs": [],
   "source": [
    "import cv2\n",
    "import time as t \n",
    "\n",
    "cap = cv2.VideoCapture(0)               # 웹캠 객체 생성\n",
    "\n",
    "t_now = t.time()\n",
    "t_prev = t.time()\n",
    "\n",
    "cnt_frame = 0\n",
    "\n",
    "if cap.isOpened():                      # 캡처 객체 초기화 확인\n",
    "    while True: \n",
    "        ret, img = cap.read()           # 다음 프레임 읽기\n",
    "        \n",
    "        if ret:                         # 프레임 읽기 정상\n",
    "            frame = cv2.resize(img, (640, 480))\n",
    "            cv2.imshow('camera', frame) \n",
    "            \n",
    "            if cv2.waitKey(1) != -1:    # 화면에 표시\n",
    "                break\n",
    "            \n",
    "            cnt_frame += 1\n",
    "            t_now = t.time()\n",
    "            \n",
    "            if t_now - t_prev >= 1.0:\n",
    "                t_prev = t_now\n",
    "                print(f'frame count : {cnt_frame}')\n",
    "                cnt_frame = 0 \n",
    "        \n",
    "        else: \n",
    "            print('no frame')           # 다음 프레임을 읽을 수 없음.\n",
    "            break\n",
    "    \n",
    "else:\n",
    "    print(\"Can't open Webcam.\")          # 캡처 객체 초기화 실패\n",
    "\n",
    "cap.release()                           # 캡쳐 자원 반납\n",
    "cv2.destroyAllWindows()"
   ]
  },
  {
   "cell_type": "markdown",
   "id": "e1283793",
   "metadata": {},
   "source": [
    "## 3.  웹캠으로 사진찍기\n",
    "\n",
    "### **[명령어 설명]**\n",
    "\n",
    "❶ **cv2.imwrite(filename, img)** : 이미지 파일 저장\n",
    "- filename : 저장할 파일 경로\n",
    "  + 상대경로 : 실행되는 코드 기준으로 경로가 지정\n",
    "    > ex) filename = 'imagesFolder/flower.png'\n",
    "  + 절대경로 : 컴퓨터의 기준으로 경로가 지정\n",
    "    > ex) filename = 'C:/Users/Default/imagesFolder/flower.png'\n",
    "- img : 저장할 이미지 "
   ]
  },
  {
   "cell_type": "code",
   "execution_count": null,
   "id": "50f9185d",
   "metadata": {},
   "outputs": [],
   "source": [
    "import cv2\n",
    "\n",
    "cap= cv2.VideoCapture(0)\n",
    "\n",
    "if cap.isOpened():    \n",
    "    while True:\n",
    "        ret,frame = cap.read()\n",
    "        \n",
    "        if ret:\n",
    "            cv2.imshow('camera', frame)\n",
    "            \n",
    "            if cv2.waitKey(1) != -1:\n",
    "                cv2.imwrite('photo.jpg', frame)\n",
    "                break\n",
    "            \n",
    "        else:\n",
    "            print('no frame')\n",
    "            break\n",
    "            \n",
    "else:\n",
    "    print('no camera!')\n",
    "    \n",
    "cap.release()\n",
    "cv2.destroyAllWindows()"
   ]
  },
  {
   "cell_type": "markdown",
   "id": "5946f456",
   "metadata": {},
   "source": [
    "## 4. image 읽기"
   ]
  },
  {
   "cell_type": "code",
   "execution_count": 1,
   "id": "a3a8475b",
   "metadata": {},
   "outputs": [
    {
     "name": "stdout",
     "output_type": "stream",
     "text": [
      "1\n"
     ]
    }
   ],
   "source": [
    "import cv2\n",
    "\n",
    "img_file = \"C:/Users/coffe/Downloads/jeju.png\" # 표시할 이미지 경로\n",
    "\n",
    "img = cv2.imread(img_file) # 이미지를 읽어서 img 변수에 할당\n",
    "print(1)\n",
    "if img is not None:\n",
    "    cv2.imshow('IMG', img) # 읽은 이미지를 화면에 표시\n",
    "\n",
    "    if cv2.waitKey(10) == 27: # 키가 입력될 때까지 대기\n",
    "        cv2.destroyAllWindows() # 창 모두 닫기\n",
    "        \n",
    "else:\n",
    "    print('No image file.')"
   ]
  },
  {
   "cell_type": "markdown",
   "id": "948cae93",
   "metadata": {},
   "source": [
    "## 5. image 저장"
   ]
  },
  {
   "cell_type": "code",
   "execution_count": null,
   "id": "66d474cd",
   "metadata": {},
   "outputs": [],
   "source": [
    "img_file = \"../camera_cv2/img_1/a.png\"\n",
    "save_file = \"../camera_cv2/img_2/a_ gray.png\"\n",
    "\n",
    "img = cv2.imread(img_file, cv2.IMREAD_GRAYSCALE)\n",
    "cv2.imshow(img_file, img)\n",
    "cv2.imwrite(save_file, img)\n",
    "cv2.waitKey()\n",
    "cv2.destroyAllWindows()"
   ]
  },
  {
   "cell_type": "markdown",
   "id": "396a6236",
   "metadata": {},
   "source": [
    "## 6. 관심영역 (ROI_Region of Interest) 추출하기\n",
    "\n",
    "### 1) 마우스로 관심영역 추출하기"
   ]
  },
  {
   "cell_type": "code",
   "execution_count": null,
   "id": "8f3b6f31",
   "metadata": {},
   "outputs": [],
   "source": [
    "import cv2\n",
    "import numpy as np\n",
    "\n",
    "isDragging = False                         # 마우스 드래그 상태 저장\n",
    "x0,y0,w,h = -1,-1,-1,-1                    # 영역 선택 좌표 저장\n",
    "blue,red = (255,0,0),(0,0,255)              # 색상 값\n",
    "\n",
    "def onMouse(event, x, y, flags, param):     # 마우스 이벤트 핸들 함수\n",
    "    global isDragging, x0, y0, img          # 전역 변수 참조\n",
    "    if event == cv2.EVENT_LBUTTONDOWN:      # 왼쪽 마우스 버튼 다운, 드래그 시작\n",
    "        isDragging = True\n",
    "        x0 = x\n",
    "        y0 = y\n",
    "        \n",
    "    elif event == cv2.EVENT_MOUSEMOVE:      # 마우스 움직임\n",
    "        if isDragging:                       # 드래그 진행 중\n",
    "            img_draw = img.copy()            # 사각형 그림 표현을 위한 이미지 복제 (매번 같은 이미지에 그려지면 이미지가 더러워짐)\n",
    "            cv2.rectangle(img_draw, (x0,y0), (x,y), blue, 2)  # 드래그 진행 영역 표시\n",
    "            cv2.imshow('img', img_draw)       # 사각형으로 표시된 그림 화면 출력\n",
    "            \n",
    "    elif event == cv2.EVENT_LBUTTONUP:       # 왼쪽 마우스 버튼 업\n",
    "        if isDragging:                        # 드래그 중지\n",
    "            isDragging = False               \n",
    "            w= x - x0                         # 드래그 영역 폭 계산\n",
    "            h= y - y0                         # 드래그 영역 높이 계산\n",
    "            print(f\"{x0}, {y0}, {w}, {h}\")\n",
    "            \n",
    "            if w>0 and h>0:                  # 폭과 높이가 양수이면 드래그 방향이 옳음\n",
    "                img_draw = img.copy()         # 선택 영역에 사각형 그림을 표시할 이미지 복제\n",
    "                cv2.rectangle(img_draw, (x0, y0), (x, y), red, 2) # 선택 영역에 빨간색 사각형 표시\n",
    "                cv2.imshow('img', img_draw)         # 빨간색 사각형이 그려진 이미지 화면 출력\n",
    "                roi = img[y0:y0+h, x0:x0+w]         # 원본 이미지에서 선택 영역만 ROI로 지정\n",
    "                cv2.imshow('cropped', roi)          # ROI 지정 영역을 새 창으로 표시\n",
    "                cv2.moveWindow('cropped', 0,0)     # 새 창을 화면 좌측 상단으로 이동\n",
    "                cv2.imwrite('../camera_cv2/img_1/cropped.jpg', roi)  # ROI 영역만 파일로 저장\n",
    "                print('cropped.')\n",
    "            \n",
    "            else:\n",
    "            # 드래그 방향이 잘못된 경우 사각형 그림이 없는 원본 이미지 출력\n",
    "                cv2.imshow('img', img)\n",
    "                print('좌측 상단에서 우측 하단으로 영역을 드래그하세요.')\n",
    "\n",
    "img = cv2.imread('../camera_cv2/img_1/a.png')\n",
    "cv2.imshow('img', img)\n",
    "cv2.setMouseCallback('img', onMouse) # 마우스 이벤트 등록\n",
    "cv2.waitKey()\n",
    "cv2.destroyAllWindows()"
   ]
  },
  {
   "cell_type": "markdown",
   "id": "a8af6216",
   "metadata": {},
   "source": [
    "### 2) cv2라이브러리로 간단히 하기\n",
    "\n",
    "ROI를 마우스로 드래그한 뒤 엔터나 스페이스 바를 누르면, 지정한 경로로 크롭된 이미지가 저장되고,\n",
    "c키를 누르면 종료"
   ]
  },
  {
   "cell_type": "code",
   "execution_count": null,
   "id": "631a76b3",
   "metadata": {},
   "outputs": [],
   "source": [
    "import cv2 \n",
    "import numpy as np\n",
    "\n",
    "img = cv2.imread('../camera_cv2/img_1/a.png')\n",
    "\n",
    "x,y,w,h = cv2.selectROI('img', img, False)\n",
    "if w and h:\n",
    "    roi = img[y:y+h, x:x+w]\n",
    "    cv2.imshow('cropped', roi)                   # ROI 지정 영역을 새창으로 표시\n",
    "    cv2.moveWindow('cropped', 0, 0)              # 새창을 화면 측 상단으로 이동\n",
    "    cv2.imwrite('../camera_cv2/img_1/cropped.png', roi)  # ROI 영역만 파일로 저장\n",
    "    \n",
    "cv2.imshow('img', img)\n",
    "cv2.waitKey(0)\n",
    "cv2.destroyAllWindows()"
   ]
  },
  {
   "cell_type": "markdown",
   "id": "f9d08c08",
   "metadata": {},
   "source": [
    "## 7. 디렉토리 생성하기"
   ]
  },
  {
   "cell_type": "code",
   "execution_count": null,
   "id": "d030437c",
   "metadata": {},
   "outputs": [],
   "source": [
    "import os\n",
    "f_names = input(\"filename:\")\n",
    "os.mkdir(f\"../{f_names}\")"
   ]
  },
  {
   "cell_type": "code",
   "execution_count": null,
   "id": "5e7b411e",
   "metadata": {},
   "outputs": [],
   "source": [
    "f_names = input(\"filename:\")\n",
    "for i in range(5):\n",
    "    filename = f'{f_names}{i}.jpg'\n",
    "    os.mkdir(os.path.join('../img_3', filename))"
   ]
  },
  {
   "cell_type": "markdown",
   "id": "06811894",
   "metadata": {},
   "source": [
    "## 8. 사진찍어서 파일 저장하기"
   ]
  },
  {
   "cell_type": "code",
   "execution_count": null,
   "id": "510cec2c",
   "metadata": {},
   "outputs": [],
   "source": [
    "import cv2\n",
    "import os\n",
    "import time as t\n",
    "\n",
    "cap= cv2.VideoCapture(0)\n",
    "\n",
    "if cap.isOpened():    \n",
    "    while True:\n",
    "        ret,frame = cap.read()\n",
    "        \n",
    "        if ret:     \n",
    "            cv2.imshow('camera', frame) \n",
    "            key_value = cv2.waitKey(10)   \n",
    "            \n",
    "            if key_value == ord('q'): # q를 누르면 종료\n",
    "                break\n",
    "            \n",
    "            #폴더 만들기 \n",
    "            elif key_vlaue == ('f'):\n",
    "                folder = input('folder_name:'')\n",
    "                os.mkdir(f'{folder}'')  \n",
    "                \n",
    "            # 한번에 같은 사진 여러 장 찍기 \n",
    "            elif key_value == ord('w'): # w를 누르면 사진촬영\n",
    "                num = int(input('찍은 사진 장수를 알려주세요 : '))\n",
    "                \n",
    "                for i in range(num):\n",
    "                    frame = cv2.resize(frame, (160, 120))\n",
    "                    filename = f'{folder}{i}.png'\n",
    "                    save_file = f\"../camera_cv2/{folder}/{filename}\"\n",
    "                    cv2.imwrite(save_file, frame)\n",
    "                    print(i, save_file)\n",
    "                    t.sleep(0.3)\n",
    "            \n",
    "            # 엔터키 누를 때마다 사진 찍기 \n",
    "            elif key_value == 13:\n",
    "                folder = input(\"folder_name:\")\n",
    "                os.mkdir(f\"{folder}\")  \n",
    "                frame = cv2.resize(frame, (160, 120))\n",
    "                filename = f'{folder}{i}.png'\n",
    "                save_file = f\"../camera_cv2/{folder}/{filename}\"\n",
    "                cv2.imwrite(save_file, frame)\n",
    "                print(i, save_file)\n",
    "                               \n",
    "        else:\n",
    "            print('no frame')\n",
    "            \n",
    "else:\n",
    "    print('no camera!')\n",
    "    \n",
    "cap.release()\n",
    "cv2.destroyAllWindows()"
   ]
  },
  {
   "cell_type": "markdown",
   "id": "1b5f93a9",
   "metadata": {},
   "source": [
    "## 9. 함수로 변환하기"
   ]
  },
  {
   "cell_type": "code",
   "execution_count": null,
   "id": "1db6d483",
   "metadata": {},
   "outputs": [],
   "source": [
    "import cv2\n",
    "import os\n",
    "import time as t\n",
    "import shutil\n",
    "\n",
    "def folder_del():\n",
    "    ans = input(\"폴더안의 데이터를 모두 삭제하시겠습니까? (y or n) : \")\n",
    "    if ans == 'y':\n",
    "        folder = input(\"삭제할 폴더명을 입력해주세요:\")\n",
    "        shutil.rmtree(f\"../camera_cv2/{folder}/\")\n",
    "    elif ans == 'n':\n",
    "        pass\n",
    "    \n",
    "def folder_creat():\n",
    "    folder = input('folder_name:')\n",
    "    os.mkdir(f'{folder}')     \n",
    "    return folder\n",
    "\n",
    "def photo_take(folder):\n",
    "    cap= cv2.VideoCapture(0)\n",
    "    i = 0\n",
    "             \n",
    "    if cap.isOpened():    \n",
    "        while True:\n",
    "            ret,frame = cap.read()\n",
    "\n",
    "            if ret:     \n",
    "                cv2.imshow('camera', frame) \n",
    "                key_value = cv2.waitKey(10)   \n",
    "\n",
    "                if key_value == ord('q'): # q를 누르면 종료\n",
    "                    break\n",
    "\n",
    "                # 한번에 같은 사진 여러 장 찍기 \n",
    "                elif key_value == ord('w'): # w를 누르면 사진촬영\n",
    "                    num = int(input('찍은 사진 장수를 알려주세요 : '))\n",
    "\n",
    "                    for i in range(num):\n",
    "                        frame = cv2.resize(frame, (160, 120))\n",
    "                        filename = f'{folder}{i}.png'\n",
    "                        save_file = f\"../camera_cv2/{folder}/{filename}\"\n",
    "                        cv2.imwrite(save_file, frame)\n",
    "                        print(i, save_file)\n",
    "                        t.sleep(0.3)\n",
    "\n",
    "                # 엔터키 누를 때마다 사진 찍기 \n",
    "                elif key_value == 13:\n",
    "                    frame = cv2.resize(frame, (160, 120))\n",
    "                    filename = f'{folder}{i}.png'\n",
    "                    save_file = f\"../camera_cv2/{folder}/{filename}\"\n",
    "                    cv2.imwrite(save_file, frame)\n",
    "                    print(i, save_file)\n",
    "                    i += 1\n",
    "\n",
    "            else:\n",
    "                print('no frame')\n",
    "\n",
    "    else:\n",
    "        print('no camera!')\n",
    "\n",
    "    cap.release()\n",
    "    cv2.destroyAllWindows()"
   ]
  },
  {
   "cell_type": "markdown",
   "id": "4b9ed104",
   "metadata": {},
   "source": [
    "## 10. 실행하기"
   ]
  },
  {
   "cell_type": "code",
   "execution_count": null,
   "id": "8a768598",
   "metadata": {},
   "outputs": [],
   "source": [
    "name = folder_creat()"
   ]
  },
  {
   "cell_type": "code",
   "execution_count": null,
   "id": "ff267f3e",
   "metadata": {},
   "outputs": [],
   "source": [
    "photo_take(name)"
   ]
  },
  {
   "cell_type": "code",
   "execution_count": null,
   "id": "8e908676",
   "metadata": {},
   "outputs": [],
   "source": [
    "folder_del()"
   ]
  },
  {
   "cell_type": "code",
   "execution_count": null,
   "id": "cfe3e1eb",
   "metadata": {},
   "outputs": [],
   "source": []
  }
 ],
 "metadata": {
  "kernelspec": {
   "display_name": "Python 3 (ipykernel)",
   "language": "python",
   "name": "python3"
  },
  "language_info": {
   "codemirror_mode": {
    "name": "ipython",
    "version": 3
   },
   "file_extension": ".py",
   "mimetype": "text/x-python",
   "name": "python",
   "nbconvert_exporter": "python",
   "pygments_lexer": "ipython3",
   "version": "3.9.12"
  }
 },
 "nbformat": 4,
 "nbformat_minor": 5
}
