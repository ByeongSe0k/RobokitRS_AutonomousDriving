{
 "cells": [
  {
   "cell_type": "markdown",
   "id": "2ad58a61",
   "metadata": {},
   "source": [
    "## 1. 데이터 라벨링"
   ]
  },
  {
   "cell_type": "code",
   "execution_count": 1,
   "id": "081ad65a",
   "metadata": {},
   "outputs": [],
   "source": [
    "#1. 라이브러리 가져오기\n",
    "import os \n",
    "import csv"
   ]
  },
  {
   "cell_type": "code",
   "execution_count": 2,
   "id": "385ae3d4",
   "metadata": {},
   "outputs": [
    {
     "name": "stdout",
     "output_type": "stream",
     "text": [
      "C:\\Users\\coffe\\2023_Mobility\\OpenCV2\n"
     ]
    }
   ],
   "source": [
    "#2. 데이터 저장 디렉토리 경로 확인하기\n",
    "dataDir = \"img\"\n",
    "print(os.getcwd())"
   ]
  },
  {
   "cell_type": "code",
   "execution_count": 3,
   "id": "3a44f3bd",
   "metadata": {},
   "outputs": [
    {
     "name": "stdout",
     "output_type": "stream",
     "text": [
      "['.ipynb_checkpoints', '0_road_labels.csv', 'img_1', 'img_2']\n"
     ]
    }
   ],
   "source": [
    "#3. 디렉토리 이동 후 확인\n",
    "os.chdir(dataDir)\n",
    "roadDirs = os.listdir()\n",
    "print(roadDirs)"
   ]
  },
  {
   "cell_type": "code",
   "execution_count": 4,
   "id": "826eeab9",
   "metadata": {},
   "outputs": [
    {
     "data": {
      "text/plain": [
       "23"
      ]
     },
     "execution_count": 4,
     "metadata": {},
     "output_type": "execute_result"
    }
   ],
   "source": [
    "#4. csv 파일을 생성 후 문자열 생성\n",
    "f_csv = open('0_road_labels.csv', 'w' , newline= '')\n",
    "wr = csv.writer(f_csv)\n",
    "wr.writerow(['file', 'label', 'labelNames'])"
   ]
  },
  {
   "cell_type": "code",
   "execution_count": 5,
   "id": "c70385bc",
   "metadata": {},
   "outputs": [
    {
     "name": "stdout",
     "output_type": "stream",
     "text": [
      "['.ipynb_checkpoints', 'img_1', 'img_2']\n"
     ]
    }
   ],
   "source": [
    "#5. roadDirs에서 폴더 순서대로 가져오기 \n",
    "roadDirs = [road for road in roadDirs if os.path.isdir(road)]\n",
    "print(roadDirs)"
   ]
  },
  {
   "cell_type": "code",
   "execution_count": 6,
   "id": "a83454e9",
   "metadata": {},
   "outputs": [
    {
     "name": "stdout",
     "output_type": "stream",
     "text": [
      "['img_1', 'img_2']\n"
     ]
    }
   ],
   "source": [
    "roadDirs = roadDirs[1:]\n",
    "print(roadDirs)"
   ]
  },
  {
   "cell_type": "code",
   "execution_count": 9,
   "id": "af9088d2",
   "metadata": {},
   "outputs": [
    {
     "name": "stdout",
     "output_type": "stream",
     "text": [
      "a.png\n",
      "cropped.jpg\n",
      "cropped.png\n",
      "a_ gray.png\n",
      "savedImage.jpg\n"
     ]
    }
   ],
   "source": [
    "#6. 수집한 파일을 가져와 기록하기\n",
    "for num, roadDir in enumerate(roadDirs):\n",
    "    roadFiles = os.listdir(roadDir)\n",
    "    for roadFile in roadFiles[1:]:\n",
    "        print(roadFile)\n",
    "        wr.writerow([os.path.join(roadDir, roadFile), num, roadDir])        "
   ]
  },
  {
   "cell_type": "code",
   "execution_count": 10,
   "id": "9794fa3f",
   "metadata": {},
   "outputs": [],
   "source": [
    "#7. f_csv의 내용을 디스크에 쓰고 close 하기 \n",
    "f_csv.flush()\n",
    "f_csv.close()"
   ]
  }
 ],
 "metadata": {
  "kernelspec": {
   "display_name": "Python 3 (ipykernel)",
   "language": "python",
   "name": "python3"
  },
  "language_info": {
   "codemirror_mode": {
    "name": "ipython",
    "version": 3
   },
   "file_extension": ".py",
   "mimetype": "text/x-python",
   "name": "python",
   "nbconvert_exporter": "python",
   "pygments_lexer": "ipython3",
   "version": "3.9.12"
  }
 },
 "nbformat": 4,
 "nbformat_minor": 5
}
